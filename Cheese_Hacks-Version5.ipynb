{
  "nbformat": 4,
  "nbformat_minor": 0,
  "metadata": {
    "colab": {
      "provenance": []
    },
    "kernelspec": {
      "name": "python3",
      "display_name": "Python 3"
    },
    "language_info": {
      "name": "python"
    }
  },
  "cells": [
    {
      "cell_type": "code",
      "source": [
        "from sentence_transformers import SentenceTransformer, util\n",
        "\n",
        "# Load a pre-trained model\n"
      ],
      "metadata": {
        "colab": {
          "base_uri": "https://localhost:8080/"
        },
        "id": "qrx460TplM10",
        "outputId": "8bb15e52-5413-4f90-bb00-f849068f2f42"
      },
      "execution_count": 2,
      "outputs": [
        {
          "output_type": "stream",
          "name": "stderr",
          "text": [
            "/usr/local/lib/python3.10/dist-packages/sentence_transformers/cross_encoder/CrossEncoder.py:13: TqdmExperimentalWarning: Using `tqdm.autonotebook.tqdm` in notebook mode. Use `tqdm.tqdm` instead to force console mode (e.g. in jupyter console)\n",
            "  from tqdm.autonotebook import tqdm, trange\n"
          ]
        }
      ]
    },
    {
      "cell_type": "code",
      "source": [
        "import nltk\n",
        "from nltk.corpus import stopwords\n",
        "from nltk.tokenize import word_tokenize\n",
        "\n",
        "# Download the stopwords list (only once)\n",
        "nltk.download('stopwords')\n",
        "nltk.download('punkt')\n",
        "nltk.download('punkt_tab')\n",
        "\n"
      ],
      "metadata": {
        "colab": {
          "base_uri": "https://localhost:8080/"
        },
        "id": "lZYKYfNoCUCu",
        "outputId": "8987c9cf-7b6f-443b-b60e-5ebf1f0ab7a8"
      },
      "execution_count": 3,
      "outputs": [
        {
          "output_type": "stream",
          "name": "stderr",
          "text": [
            "[nltk_data] Downloading package stopwords to /root/nltk_data...\n",
            "[nltk_data]   Unzipping corpora/stopwords.zip.\n",
            "[nltk_data] Downloading package punkt to /root/nltk_data...\n",
            "[nltk_data]   Unzipping tokenizers/punkt.zip.\n",
            "[nltk_data] Downloading package punkt_tab to /root/nltk_data...\n",
            "[nltk_data]   Unzipping tokenizers/punkt_tab.zip.\n"
          ]
        },
        {
          "output_type": "execute_result",
          "data": {
            "text/plain": [
              "True"
            ]
          },
          "metadata": {},
          "execution_count": 3
        }
      ]
    },
    {
      "cell_type": "markdown",
      "source": [
        "##Non-Open ended question"
      ],
      "metadata": {
        "id": "fK4D7O7tdOi5"
      }
    },
    {
      "cell_type": "code",
      "source": [
        "from sklearn.feature_extraction.text import TfidfVectorizer\n",
        "from sentence_transformers import SentenceTransformer, util\n",
        "\n",
        "\n",
        "# Define keywords or attribute phrases\n",
        "\n",
        "# Example description\n",
        "\n",
        "\n",
        "\n",
        "# Load a pre-trained sentence transformer model\n",
        "\n",
        "# Function to score a description\n",
        "def club_score(description, attributes):\n",
        "    model = SentenceTransformer('all-MiniLM-L6-v2')\n",
        "    scores = {}\n",
        "    desc_embedding = model.encode(description, convert_to_tensor=True)\n",
        "\n",
        "    for attr, phrases in attributes.items():\n",
        "        attr_embeddings = model.encode(phrases, convert_to_tensor=True)\n",
        "        similarity = util.cos_sim(desc_embedding, attr_embeddings)\n",
        "        scores[attr] = similarity.mean().item()  # Average similarity score\n",
        "\n",
        "    return scores\n",
        "\n",
        "\n",
        "\n",
        "# Assess the description\n",
        "def match_clubs(club_descriptions,user_attributes):\n",
        "  matching_clubs = {}\n",
        "  attributes = { #WARNING: Words are subjected to change\n",
        "    \"teamwork\": [\"networking\", \"collaboration\", \"partnership\", \"coordinate\",\"support\"], # \"cooperation\", \"team\", \"collaboration\", \"group work\", \"mutual support\", \"collective effort\", \"synergy\", \"shared responsibility\", \"coordination\", \"joint effort\", \"supportive environment\", \"team spirit\", \"interdependence\", \"togetherness\", \"cooperation across teams\", \"team-based\", \"group dynamics\"\n",
        "    \"community_service\": [\"awareness\",\"community\", \"volunteer\", \"giving back\", \"charity\",\"society\"], # \"charity\", \"social impact\", \"community engagement\",\"helping others\", \"civic responsibility\", \"social responsibility\", \"philanthropy\", \"mission trips\", \"voluntary service\", \"empowerment\", \"public service\", \"nonprofit work\", \"community involvement\", \"advocacy\"\n",
        "    \"leadership\": [\"leader\", \"excel\", \"succeed\", \"evolve\",\"future\",], # \"leadership\", \"leader\", \"inspire\", \"mentor\", \"guide\", \"decision-making\", \"visionary\",\"responsibility\", \"motivator\", \"manager\", \"influence\", \"coach\", \"authority\", \"empower\", \"director\", \"organizer\", \"strategic thinking\", \"leadership development\", \"leading by example\"\n",
        "    \"eagerness_to_learn\": [\"interest\",\"passion\",\"curious\", \"explore\",\"develop\"], #\"learning\", \"curiosity\", \"knowledge-seeking\", \"growth mindset\", \"self-improvement\", \"development\", \"education\", \"exploration\", \"adaptability\", \"open-mindedness\", \"lifelong learning\", \"innovation\",\"self-driven\", \"intellectual curiosity\", \"new experiences\", \"skill-building\", \"challenging oneself\",\"personal growth\", \"exploration of new ideas\", \"knowledge expansion\"\n",
        "    \"critical_thinking\": [\"analysis\", \"problem-solving\", \"evaluate\", \"strategy\",\"critical thinking\"] # \"problem-solving\", \"analysis\", \"critical thinking\", \"reasoning\", \"evaluation\", \"decision-making\", \"strategy\",\"logic\", \"objectivity\", \"judgment\", \"reflection\", \"inquiry\", \"debate\", \"data analysis\", \"questioning assumptions\",\"cognitive skills\", \"thoughtful consideration\", \"synthesis\", \"problem resolution\", \"insight\"\n",
        "}\n",
        "\n",
        "  for i in range(len(club_descriptions)):\n",
        "    categories = [\"teamwork\", \"community_service\", \"leadership\", \"eagerness_to_learn\", \"critical_thinking\"]\n",
        "    scores = dict(sorted(club_score(club_descriptions[i], attributes).items(), key=lambda item: item[1],reverse = True))\n",
        "    for attr in range(len(user_attributes)):\n",
        "      if (len(matching_clubs) < 6 and user_attributes[attr]) and scores[categories[attr]] > 0.15:\n",
        "        matching_clubs[i] = scores[categories[attr]]\n",
        "\n",
        "  sorted_dict = dict(sorted(matching_clubs.items(), key=lambda item: item[1], reverse = True))\n",
        "  return list(sorted_dict.keys())\n",
        "\n"
      ],
      "metadata": {
        "id": "FozopC1w49ON"
      },
      "execution_count": 65,
      "outputs": []
    },
    {
      "cell_type": "markdown",
      "source": [
        "##Open_Ended Question"
      ],
      "metadata": {
        "id": "DPrG-t3id3RO"
      }
    },
    {
      "cell_type": "code",
      "source": [
        "import re\n",
        "import numpy as np\n",
        "\n",
        "\n",
        "\n",
        "#filtering sentence to make similarity scores more relevent\n",
        "def filter_sentence(sentence):\n",
        "\n",
        "  # Step 1: Tokenize the sentence into words\n",
        "  words = word_tokenize(sentence)\n",
        "\n",
        "  # Step 2: Get the list of stopwords in English\n",
        "  stop_words = set(stopwords.words('english'))\n",
        "\n",
        "  # Step 3: Remove stopwords from the sentence\n",
        "  filtered_words = [word for word in words if word.lower() not in stop_words]\n",
        "\n",
        "  # Step 4: Reconstruct the sentence without stopwords\n",
        "  filtered_sentence = ' '.join(filtered_words)\n",
        "\n",
        "  # Output the result\n",
        "  return filtered_sentence\n",
        "\n",
        "#finding relevent clubs\n",
        "#TODO: Might need to split a group of sentences into individual sentences and check mean of similarity score for each sentence\n",
        "def interest_similarity(club_descriptions, user_input):\n",
        "  model = SentenceTransformer('all-MiniLM-L6-v2')\n",
        "  unfiltered_clubs = {}\n",
        "  for i in range(len(club_descriptions)):  #TODO: needs more changes related sorting\n",
        "    user_embedding = model.encode(user_input, convert_to_tensor=True)\n",
        "    club_embedding = model.encode(club_descriptions[i], convert_to_tensor=True)\n",
        "    cosine_similarity = util.cos_sim(user_embedding, club_embedding)\n",
        "    if len(unfiltered_clubs) < 6 and cosine_similarity > 0.2:\n",
        "      unfiltered_clubs[i] = cosine_similarity\n",
        "\n",
        "  sorted_dict = dict(sorted(unfiltered_clubs.items(), key=lambda item: item[1],reverse = True))\n",
        "  return list(sorted_dict.keys())\n",
        "\n",
        "\n",
        "\n",
        "\n",
        "\n"
      ],
      "metadata": {
        "id": "_NdM7WHlA-TN"
      },
      "execution_count": 66,
      "outputs": []
    },
    {
      "cell_type": "markdown",
      "source": [
        "#Final Implementation"
      ],
      "metadata": {
        "id": "VUUDqM6K85Sh"
      }
    },
    {
      "cell_type": "code",
      "source": [
        "\n",
        "def indicesOfMatchingClubs(club_descriptions, teamwork,community_service,leadership,learning,critical_thinking,hobbies,club_wants):\n",
        "  questions = {\"teamwork\": teamwork,\n",
        "          \"community_service\": community_service,\n",
        "          \"leadership\": leadership,\n",
        "          \"learning\": learning,\n",
        "          \"critical_thinking\": critical_thinking,\n",
        "          \"hobbies\": hobbies,\n",
        "          \"club_wants\": club_wants\n",
        "          }\n",
        "  user_input = [questions[\"hobbies\"] + \". \" + questions[\"club_wants\"]]\n",
        "  user_attributes = [questions[\"teamwork\"],questions[\"community_service\"],questions[\"leadership\"],questions[\"learning\"],questions[\"critical_thinking\"]]\n",
        "  return list(np.unique(np.array((interest_similarity(club_descriptions, user_input) + match_clubs(club_descriptions, user_attributes)))))\n",
        "\n",
        "def listOfMatchingClubs(club_titles,club_descriptions, teamwork,community_service,leadership,learning,critical_thinking,hobbies,club_wants):\n",
        "  finalClubs = {}\n",
        "  for i in indicesOfMatchingClubs(club_descriptions, teamwork,community_service,leadership,learning,critical_thinking,hobbies,club_wants):\n",
        "    finalClubs[club_titles[i]] = club_descriptions[i]\n",
        "  if finalClubs == {}:\n",
        "    finalClubs = {\"No matching clubs found\":\"\"}\n",
        "  return finalClubs\n"
      ],
      "metadata": {
        "id": "Uqgjz8OB8tEw"
      },
      "execution_count": 67,
      "outputs": []
    },
    {
      "cell_type": "markdown",
      "source": [
        "#Testing the model"
      ],
      "metadata": {
        "id": "HQOw_bMbCaoa"
      }
    },
    {
      "cell_type": "code",
      "source": [
        "#for reference purposes only\n",
        "questions = {\"teamwork\": False,\n",
        "            \"community_service\": False,\n",
        "            \"leadership\": False,\n",
        "            \"learning\": False,\n",
        "            \"critical_thinking\": False,\n",
        "            \"hobbies\": \"I am into movies\",\n",
        "            \"club_wants\": \"\"\n",
        "            }\n",
        "\n",
        "#actual input that varies the output\n",
        "club_descriptions = [\n",
        "    \"Aa Dekhen Zara (ADZ) is an annual South Asian Dance competition hosted by the students of the University of Wisconsin-Madison. We host talented Bollywood-Fusion dance teams.\",\n",
        "    \"The Alexander Hamilton Society (AHS) is a non-partisan organization focused on foreign policy and national security international relations.\",\n",
        "    \"The American Medical College of Pharmacy (AMCP) provides opportunities to learn about managed care pharmacy, improving patient outcomes through clinical and business knowledge.\",\n",
        "    \"Acacia is a social fraternity dedicated to human service. We are dedicated to bettering the community we are a part of and sharing a brotherhood we will remember for the rest of our lives. We are a fraternity that is focused on the strength of brotherhood. By selecting key members of the Madison community, we build a brotherhood dedicated to human service for both the community and ourselves. These members are selected through the IFC-regulated RUSH process in which members are first bid followed by a pledge process. We are a non-hazing fraternity built on the idea that disrespect to any possible future member or person is strictly against our goals and morals. All leaders of the Acacia Fraternity are elected by the active members and must be students of the University of Wisconsin-Madison.  \",\n",
        "\"The Health Entreprenuers and Leaders is a prehealth student organization established at the University of Wisconsin-Madison in 2020. As prehealth students, we identified the gaps and disparities in our community and the medical field. HEAL is our legacy to become the change that goes beyond addressing the issue but pushes forward to act upon them at the core of the issues. We understand Health care policy and insurance are crucial factors that comes to healthcare affordability and accessibility, which HEAL has a focus to address. Beyond this, the cornerstone of HEAL is to address problems in healthcare at all levels, including but not limited to the federal, state, hospital administration, healthcare providers/professionals, patients, etc. HEAL is structured to be a center for all pre-health students to attain resources and mentorship to grow and develop in their path to pursuing and entering the health field. HEAL understands the benefits and advocates for the diversity of people, backgrounds, and minds to improve the future of medicine.\"\n",
        "]\n",
        "\n",
        "\n",
        "club_titles = [\"Aa Dekhen Zara\", \"The Alexander Hamilton Society\", \"The American Medical College of Pharmacy\", \"Acacia\", \"The Health Entreprenuers and Leaders\"]\n",
        "event_descriptions = [\"event1\", \"event2\", \"event3\",\"event4\",\"event5\"]\n",
        "\n",
        "\n",
        "\n",
        "import csv\n",
        "\n",
        "with open('/content/organizations_data.csv', mode='r', encoding='utf-8') as file:\n",
        "    csv_reader = csv.DictReader(file)\n",
        "    organizations_data = [row for row in csv_reader][0:5]\n",
        "\n",
        "\n",
        "# Extract only the descriptions from the organizations data\n",
        "club_descriptions = [row['description'] for row in organizations_data]\n",
        "club_title = [row['name'] for row in organizations_data]\n",
        "print(listOfMatchingClubs(club_title,club_descriptions,True,False,True,False,True,\"i like going out and playing with computers. I also enjoy coding\",\"I want a social environment with comnputers\"))"
      ],
      "metadata": {
        "colab": {
          "base_uri": "https://localhost:8080/"
        },
        "id": "q1AiWSZNCbEU",
        "outputId": "326ce255-e776-4855-e9e8-6d1fe27291fc"
      },
      "execution_count": 68,
      "outputs": [
        {
          "output_type": "stream",
          "name": "stdout",
          "text": [
            "{'Acacia Fraternity - Lamedth Chapter': '', 'Academy of Managed Care Pharmacy Student Chapter at UW Madison': 'AMCP is a national professional organization of pharmacists and other health care providers that aims to improve patient outcomes through the merger of both clinical and business knowledge. The student chapter allows those interested to learn more about this subset of pharmacy. The student chapter seeks to provide students with a greater understanding of the field of managed care pharmacy. Students are provided multiple opportunities to strengthen their knowledge of this area, such as engaging with speakers who are current professionals in the field as well as participating in a national pharmacy and therapeutics competition.'}\n"
          ]
        }
      ]
    }
  ]
}