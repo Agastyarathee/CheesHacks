{
  "nbformat": 4,
  "nbformat_minor": 0,
  "metadata": {
    "colab": {
      "provenance": []
    },
    "kernelspec": {
      "name": "python3",
      "display_name": "Python 3"
    },
    "language_info": {
      "name": "python"
    }
  },
  "cells": [
    {
      "cell_type": "code",
      "source": [
        "from sentence_transformers import SentenceTransformer, util\n",
        "\n",
        "# Load a pre-trained model\n"
      ],
      "metadata": {
        "id": "qrx460TplM10"
      },
      "execution_count": 38,
      "outputs": []
    },
    {
      "cell_type": "code",
      "source": [
        "import nltk\n",
        "from nltk.corpus import stopwords\n",
        "from nltk.tokenize import word_tokenize\n",
        "\n",
        "# Download the stopwords list (only once)\n",
        "nltk.download('stopwords')\n",
        "nltk.download('punkt')\n",
        "nltk.download('punkt_tab')\n",
        "\n"
      ],
      "metadata": {
        "colab": {
          "base_uri": "https://localhost:8080/"
        },
        "id": "lZYKYfNoCUCu",
        "outputId": "08dc96ef-1112-4856-d477-94905a4133de"
      },
      "execution_count": 39,
      "outputs": [
        {
          "output_type": "stream",
          "name": "stderr",
          "text": [
            "[nltk_data] Downloading package stopwords to /root/nltk_data...\n",
            "[nltk_data]   Package stopwords is already up-to-date!\n",
            "[nltk_data] Downloading package punkt to /root/nltk_data...\n",
            "[nltk_data]   Package punkt is already up-to-date!\n",
            "[nltk_data] Downloading package punkt_tab to /root/nltk_data...\n",
            "[nltk_data]   Package punkt_tab is already up-to-date!\n"
          ]
        },
        {
          "output_type": "execute_result",
          "data": {
            "text/plain": [
              "True"
            ]
          },
          "metadata": {},
          "execution_count": 39
        }
      ]
    },
    {
      "cell_type": "markdown",
      "source": [
        "##Non-Open ended question"
      ],
      "metadata": {
        "id": "fK4D7O7tdOi5"
      }
    },
    {
      "cell_type": "code",
      "source": [
        "from sklearn.feature_extraction.text import TfidfVectorizer\n",
        "from sentence_transformers import SentenceTransformer, util\n",
        "\n",
        "\n",
        "# Define keywords or attribute phrases\n",
        "\n",
        "# Example description\n",
        "\n",
        "\n",
        "\n",
        "# Load a pre-trained sentence transformer model\n",
        "\n",
        "# Function to score a description\n",
        "def club_score(description, attributes):\n",
        "    model = SentenceTransformer('all-MiniLM-L6-v2')\n",
        "    scores = {}\n",
        "    desc_embedding = model.encode(description, convert_to_tensor=True)\n",
        "\n",
        "    for attr, phrases in attributes.items():\n",
        "        attr_embeddings = model.encode(phrases, convert_to_tensor=True)\n",
        "        similarity = util.cos_sim(desc_embedding, attr_embeddings)\n",
        "        scores[attr] = similarity.mean().item()  # Average similarity score\n",
        "\n",
        "    return scores\n",
        "\n",
        "\n",
        "\n",
        "# Assess the description\n",
        "def match_clubs(club_descriptions,user_attributes):\n",
        "  matching_clubs = {}\n",
        "  filtered_matching_clubs = {}\n",
        "  attributes = { #WARNING: Words are subjected to change\n",
        "    \"teamwork\": [\"joint work\",\"networking\", \"collaboration\", \"cooperative\", \"partnership\", \"coordinate\",\"support\", \"collective effort\",\"mutual\", \"team effort\"], # \"cooperation\", \"team\", \"collaboration\", \"group work\", \"mutual support\", \"collective effort\", \"synergy\", \"shared responsibility\", \"coordination\", \"joint effort\", \"supportive environment\", \"team spirit\", \"interdependence\", \"togetherness\", \"cooperation across teams\", \"team-based\", \"group dynamics\"\n",
        "    \"community_service\": [\"awareness\",\"community\", \"volunteer\", \"outreach\", \"giving back\", \"charity\",\"society\",\"non-profit\",\"social impact\",\"public benefit\"], # \"charity\", \"social impact\", \"community engagement\",\"helping others\", \"civic responsibility\", \"social responsibility\", \"philanthropy\", \"mission trips\", \"voluntary service\", \"empowerment\", \"public service\", \"nonprofit work\", \"community involvement\", \"advocacy\"\n",
        "    \"leadership\": [\"inspire\", \"initiative\", \"motivated\", \"achieving\",\"leader\", \"responsible\",\"excel\", \"succeed\", \"evolve\",\"future\",], # \"leadership\", \"leader\", \"inspire\", \"mentor\", \"guide\", \"decision-making\", \"visionary\",\"responsibility\", \"motivator\", \"manager\", \"influence\", \"coach\", \"authority\", \"empower\", \"director\", \"organizer\", \"strategic thinking\", \"leadership development\", \"leading by example\"\n",
        "    \"eagerness_to_learn\": [\"interest\",\"passion\",\"curious\",\"challenge\", \"learn\", \"grow\", \"knowledge\",\"explore\",\"develop\", \"innovation\"], #\"learning\", \"curiosity\", \"knowledge-seeking\", \"growth mindset\", \"self-improvement\", \"development\", \"education\", \"exploration\", \"adaptability\", \"open-mindedness\", \"lifelong learning\", \"innovation\",\"self-driven\", \"intellectual curiosity\", \"new experiences\", \"skill-building\", \"challenging oneself\",\"personal growth\", \"exploration of new ideas\", \"knowledge expansion\"\n",
        "    \"critical_thinking\": [\"analysis\", \"problem-solving\", \"decision-making\", \"evaluate\", \"strategy\", \"analytical\",\"critical thinking\",\"reasoning\",\"logic\",\"insight\"] # \"problem-solving\", \"analysis\", \"critical thinking\", \"reasoning\", \"evaluation\", \"decision-making\", \"strategy\",\"logic\", \"objectivity\", \"judgment\", \"reflection\", \"inquiry\", \"debate\", \"data analysis\", \"questioning assumptions\",\"cognitive skills\", \"thoughtful consideration\", \"synthesis\", \"problem resolution\", \"insight\"\n",
        "}\n",
        "  #remove this part later\n",
        "  for i in attributes:\n",
        "    print(len(attributes[i]))\n",
        "\n",
        "  for i in range(len(club_descriptions)):\n",
        "    categories = [\"teamwork\", \"community_service\", \"leadership\", \"eagerness_to_learn\", \"critical_thinking\"]\n",
        "    scores = dict(sorted(club_score(club_descriptions[i], attributes).items(), key=lambda item: item[1]))\n",
        "    print(scores) #remove this later\n",
        "    for attr in range(len(user_attributes)):\n",
        "      if (user_attributes[attr]) and scores[categories[attr]] > 0.1:\n",
        "        matching_clubs[i] = scores[categories[attr]]\n",
        "\n",
        "  if len(matching_clubs) <= 4:\n",
        "    for j in matching_clubs:\n",
        "      if len(filtered_matching_clubs) == 2:\n",
        "        break\n",
        "      if matching_clubs[j] > 0.1:\n",
        "        filtered_matching_clubs[j] = matching_clubs[j]\n",
        "  elif len(matching_clubs) <= 8:\n",
        "    for j in matching_clubs:\n",
        "      if len(filtered_matching_clubs) == 3:\n",
        "        break\n",
        "      if matching_clubs[j] > 0.12:\n",
        "        filtered_matching_clubs[j] = matching_clubs[j]\n",
        "  elif len(matching_clubs) > 8:\n",
        "    for j in matching_clubs:\n",
        "      if len(filtered_matching_clubs) == 5:\n",
        "        break\n",
        "      if matching_clubs[j] > 0.15:\n",
        "        filtered_matching_clubs[j] = matching_clubs[j]\n",
        "\n",
        "  sorted_dict = dict(sorted(filtered_matching_clubs.items(), key=lambda item: item[1]))\n",
        "  return list(sorted_dict.keys())[::-1]\n",
        "\n"
      ],
      "metadata": {
        "id": "FozopC1w49ON"
      },
      "execution_count": 60,
      "outputs": []
    },
    {
      "cell_type": "markdown",
      "source": [
        "##Open_Ended Question"
      ],
      "metadata": {
        "id": "DPrG-t3id3RO"
      }
    },
    {
      "cell_type": "code",
      "source": [
        "import re\n",
        "import numpy as np\n",
        "\n",
        "\n",
        "\n",
        "#filtering sentence to make similarity scores more relevent\n",
        "def filter_sentence(sentence):\n",
        "\n",
        "  # Step 1: Tokenize the sentence into words\n",
        "  words = word_tokenize(sentence)\n",
        "\n",
        "  # Step 2: Get the list of stopwords in English\n",
        "  stop_words = set(stopwords.words('english'))\n",
        "\n",
        "  # Step 3: Remove stopwords from the sentence\n",
        "  filtered_words = [word for word in words if word.lower() not in stop_words]\n",
        "\n",
        "  # Step 4: Reconstruct the sentence without stopwords\n",
        "  filtered_sentence = ' '.join(filtered_words)\n",
        "\n",
        "  # Output the result\n",
        "  return filtered_sentence\n",
        "\n",
        "#finding relevent clubs\n",
        "#TODO: Might need to split a group of sentences into individual sentences and check mean of similarity score for each sentence\n",
        "def interest_similarity(club_descriptions, user_input):\n",
        "  model = SentenceTransformer('all-MiniLM-L6-v2')\n",
        "  unfiltered_clubs = {}\n",
        "  filtered_clubs = {}\n",
        "  for i in range(len(club_descriptions)):\n",
        "    mean = []\n",
        "    sentences = re.split(r'[.!?]', club_descriptions[i])\n",
        "    sentences = [s.strip() for s in sentences if s.strip()]\n",
        "    for a in range(len(sentences)):\n",
        "      sentences[a] = filter_sentence(sentences[a])\n",
        "\n",
        "      user_embedding = model.encode(user_input, convert_to_tensor=True)\n",
        "      club_embedding = model.encode(sentences[a], convert_to_tensor=True)\n",
        "      cosine_similarity = util.cos_sim(user_embedding, club_embedding)\n",
        "      mean.append(cosine_similarity)\n",
        "    unfiltered_clubs[i] = np.mean(np.array(mean))\n",
        "\n",
        "  if len(unfiltered_clubs) <= 4:\n",
        "    for j in unfiltered_clubs:\n",
        "      if len(filtered_clubs) == 2:\n",
        "        break\n",
        "      if unfiltered_clubs[j] > 0.12:\n",
        "        filtered_clubs[j] = unfiltered_clubs[j]\n",
        "  elif len(unfiltered_clubs) <= 8:\n",
        "    for j in unfiltered_clubs:\n",
        "      if len(filtered_clubs) == 3:\n",
        "        break\n",
        "      if unfiltered_clubs[j] > 0.15:\n",
        "        filtered_clubs[j] = unfiltered_clubs[j]\n",
        "  elif len(unfiltered_clubs) > 8:\n",
        "    for j in unfiltered_clubs:\n",
        "      if len(filtered_clubs) == 5:\n",
        "        break\n",
        "      if unfiltered_clubs[j] > 0.2:\n",
        "        filtered_clubs[j] = unfiltered_clubs[j]\n",
        "\n",
        "  sorted_dict = dict(sorted(filtered_clubs.items(), key=lambda item: item[1]))\n",
        "  return list(sorted_dict.keys())[::-1]\n",
        "\n",
        "\n",
        "\n",
        "\n",
        "\n"
      ],
      "metadata": {
        "id": "_NdM7WHlA-TN"
      },
      "execution_count": 57,
      "outputs": []
    },
    {
      "cell_type": "markdown",
      "source": [
        "#Final Implementation"
      ],
      "metadata": {
        "id": "VUUDqM6K85Sh"
      }
    },
    {
      "cell_type": "code",
      "source": [
        "\n",
        "def indicesOfMatchingClubs(club_descriptions, teamwork,community_service,leadership,learning,critical_thinking,hobbies,club_wants):\n",
        "  questions = {\"teamwork\": teamwork,\n",
        "          \"community_service\": community_service,\n",
        "          \"leadership\": leadership,\n",
        "          \"learning\": learning,\n",
        "          \"critical_thinking\": critical_thinking,\n",
        "          \"hobbies\": hobbies,\n",
        "          \"club_wants\": club_wants\n",
        "          }\n",
        "  user_input = [questions[\"hobbies\"] + \". \" + questions[\"club_wants\"]]\n",
        "  user_attributes = [questions[\"teamwork\"],questions[\"community_service\"],questions[\"leadership\"],questions[\"learning\"],questions[\"critical_thinking\"]]\n",
        "\n",
        "  return list(np.unique(np.array((interest_similarity(club_descriptions, user_input) + match_clubs(club_descriptions, user_attributes)))))\n",
        "\n",
        "def listOfMatchingClubs(event_descriptions,club_titles,club_descriptions, teamwork,community_service,leadership,learning,critical_thinking,hobbies,club_wants):\n",
        "  finalClubs = {}\n",
        "  for i in indicesOfMatchingClubs(club_descriptions, teamwork,community_service,leadership,learning,critical_thinking,hobbies,club_wants):\n",
        "    finalClubs[club_titles[i]] = event_descriptions[i]\n",
        "  return finalClubs\n"
      ],
      "metadata": {
        "id": "Uqgjz8OB8tEw"
      },
      "execution_count": 58,
      "outputs": []
    },
    {
      "cell_type": "markdown",
      "source": [
        "#Testing the model"
      ],
      "metadata": {
        "id": "HQOw_bMbCaoa"
      }
    },
    {
      "cell_type": "code",
      "source": [
        "pip install flask-cors"
      ],
      "metadata": {
        "colab": {
          "base_uri": "https://localhost:8080/"
        },
        "id": "h6DVpzddSU_d",
        "outputId": "8ea98041-30aa-40c4-e648-3bf54882fdf0"
      },
      "execution_count": 43,
      "outputs": [
        {
          "output_type": "stream",
          "name": "stdout",
          "text": [
            "Requirement already satisfied: flask-cors in /usr/local/lib/python3.10/dist-packages (5.0.0)\n",
            "Requirement already satisfied: Flask>=0.9 in /usr/local/lib/python3.10/dist-packages (from flask-cors) (3.0.3)\n",
            "Requirement already satisfied: Werkzeug>=3.0.0 in /usr/local/lib/python3.10/dist-packages (from Flask>=0.9->flask-cors) (3.1.3)\n",
            "Requirement already satisfied: Jinja2>=3.1.2 in /usr/local/lib/python3.10/dist-packages (from Flask>=0.9->flask-cors) (3.1.4)\n",
            "Requirement already satisfied: itsdangerous>=2.1.2 in /usr/local/lib/python3.10/dist-packages (from Flask>=0.9->flask-cors) (2.2.0)\n",
            "Requirement already satisfied: click>=8.1.3 in /usr/local/lib/python3.10/dist-packages (from Flask>=0.9->flask-cors) (8.1.7)\n",
            "Requirement already satisfied: blinker>=1.6.2 in /usr/local/lib/python3.10/dist-packages (from Flask>=0.9->flask-cors) (1.9.0)\n",
            "Requirement already satisfied: MarkupSafe>=2.0 in /usr/local/lib/python3.10/dist-packages (from Jinja2>=3.1.2->Flask>=0.9->flask-cors) (3.0.2)\n"
          ]
        }
      ]
    },
    {
      "cell_type": "code",
      "source": [
        "from flask import Flask, request, jsonify\n",
        "import firebase_admin\n",
        "from firebase_admin import credentials, db\n",
        "from flask_cors import CORS\n",
        "import csv\n",
        "# Initialize Flask app\n",
        "app = Flask(__name__)\n",
        "\n",
        "# Firebase Admin SDK initialization\n",
        "# cred = credentials.Certificate(\"path/to/your/firebase-service-account.json\")\n",
        "# firebase_admin.initialize_app(cred, {\n",
        "#     'databaseURL': 'https://your-database-name.firebaseio.com/'\n",
        "# })\n",
        "CORS(app)\n",
        "\n",
        "# Read the organizations data CSV file\n",
        "with open('organizations_data.csv', mode='r', encoding='utf-8') as file:\n",
        "    csv_reader = csv.DictReader(file)\n",
        "    organizations_data = [row for row in csv_reader]\n",
        "\n",
        "\n",
        "# Extract only the descriptions from the organizations data\n",
        "club_descriptions = [row['description'] for row in organizations_data]\n",
        "club_title = [row['name'] for row in organizations_data]\n",
        "# Read the event details CSV file\n",
        "with open('event_details.csv', mode='r', encoding='utf-8') as file:\n",
        "    csv_reader = csv.DictReader(file)\n",
        "    event_details = [row for row in csv_reader]\n",
        "\n",
        "# Print the event details to verify\n",
        "event_descriptions = [row['description'] for row in event_details]\n",
        "\n",
        "\n",
        "# Print the event details to verify\n",
        "print(event_details)\n",
        "# Dummy AI model function\n",
        "def dummy_ai_model(user_data):\n",
        "    \"\"\"\n",
        "    Placeholder function for AI model processing.\n",
        "    Takes user data as input and returns a dummy result.\n",
        "    \"\"\"\n",
        "    dummy_result = listOfMatchingClubs(event_descriptions,club_title,club_descriptions,user_data.teamwork,user_data.community_service,user_data.leadership,user_data.learning,user_data.critical_thinking,user_data.hobbies,user_data.club_wants)\n",
        "    # Replace this with your actual AI model logic\n",
        "    return {\"prediction\": \"success\", \"confidence\": 0.95}\n",
        "\n",
        "@app.route('/submit', methods=['POST'])\n",
        "def submit_user_data():\n",
        "    try:\n",
        "        # Get JSON data from the request\n",
        "        user_data = request.json\n",
        "        print(user_data)\n",
        "        # # Send schema to Firebase\n",
        "        # ref = db.reference('users')  # Creates a 'schemas' node in the Firebase DB\n",
        "        # ref.push(schema)  # Pushes the schema to the database\n",
        "\n",
        "         # Run the AI model on the user data\n",
        "        ai_result = dummy_ai_model(user_data)\n",
        "\n",
        "        # Combine and return the results\n",
        "        response = {\n",
        "            \"firebase_status\": \"User data sent successfully\",\n",
        "            \"ai_result\": ai_result\n",
        "        }\n",
        "\n",
        "        return jsonify(ai_result), 200\n",
        "\n",
        "    except Exception as e:\n",
        "        # Handle errors\n",
        "        return jsonify({\"error\": str(e)}), 500\n",
        "\n",
        "if __name__ == '__main__':\n",
        "    app.run(debug=True)"
      ],
      "metadata": {
        "colab": {
          "base_uri": "https://localhost:8080/",
          "height": 211
        },
        "id": "fvzUTsl9QbE9",
        "outputId": "6b0865ae-af43-44de-b49d-4064d58783d2"
      },
      "execution_count": 44,
      "outputs": [
        {
          "output_type": "error",
          "ename": "FileNotFoundError",
          "evalue": "[Errno 2] No such file or directory: 'organizations_data.csv'",
          "traceback": [
            "\u001b[0;31m---------------------------------------------------------------------------\u001b[0m",
            "\u001b[0;31mFileNotFoundError\u001b[0m                         Traceback (most recent call last)",
            "\u001b[0;32m<ipython-input-44-c828d2371689>\u001b[0m in \u001b[0;36m<cell line: 17>\u001b[0;34m()\u001b[0m\n\u001b[1;32m     15\u001b[0m \u001b[0;34m\u001b[0m\u001b[0m\n\u001b[1;32m     16\u001b[0m \u001b[0;31m# Read the organizations data CSV file\u001b[0m\u001b[0;34m\u001b[0m\u001b[0;34m\u001b[0m\u001b[0m\n\u001b[0;32m---> 17\u001b[0;31m \u001b[0;32mwith\u001b[0m \u001b[0mopen\u001b[0m\u001b[0;34m(\u001b[0m\u001b[0;34m'organizations_data.csv'\u001b[0m\u001b[0;34m,\u001b[0m \u001b[0mmode\u001b[0m\u001b[0;34m=\u001b[0m\u001b[0;34m'r'\u001b[0m\u001b[0;34m,\u001b[0m \u001b[0mencoding\u001b[0m\u001b[0;34m=\u001b[0m\u001b[0;34m'utf-8'\u001b[0m\u001b[0;34m)\u001b[0m \u001b[0;32mas\u001b[0m \u001b[0mfile\u001b[0m\u001b[0;34m:\u001b[0m\u001b[0;34m\u001b[0m\u001b[0;34m\u001b[0m\u001b[0m\n\u001b[0m\u001b[1;32m     18\u001b[0m     \u001b[0mcsv_reader\u001b[0m \u001b[0;34m=\u001b[0m \u001b[0mcsv\u001b[0m\u001b[0;34m.\u001b[0m\u001b[0mDictReader\u001b[0m\u001b[0;34m(\u001b[0m\u001b[0mfile\u001b[0m\u001b[0;34m)\u001b[0m\u001b[0;34m\u001b[0m\u001b[0;34m\u001b[0m\u001b[0m\n\u001b[1;32m     19\u001b[0m     \u001b[0morganizations_data\u001b[0m \u001b[0;34m=\u001b[0m \u001b[0;34m[\u001b[0m\u001b[0mrow\u001b[0m \u001b[0;32mfor\u001b[0m \u001b[0mrow\u001b[0m \u001b[0;32min\u001b[0m \u001b[0mcsv_reader\u001b[0m\u001b[0;34m]\u001b[0m\u001b[0;34m\u001b[0m\u001b[0;34m\u001b[0m\u001b[0m\n",
            "\u001b[0;31mFileNotFoundError\u001b[0m: [Errno 2] No such file or directory: 'organizations_data.csv'"
          ]
        }
      ]
    },
    {
      "cell_type": "code",
      "source": [
        "questions = {\"teamwork\": False,\n",
        "            \"community_service\": True,\n",
        "            \"leadership\": False,\n",
        "            \"learning\": True,\n",
        "            \"critical_thinking\": True,\n",
        "            \"hobbies\": \"I love dancing, especially Bollywood-style dance.\",\n",
        "            \"club_wants\": \"I want a club that can help me pursue a career in international relations.\"\n",
        "            }\n",
        "club_descriptions = [\n",
        "    \"Aa Dekhen Zara (ADZ) is an annual South Asian Dance competition hosted by the students of the University of Wisconsin-Madison. We host talented Bollywood-Fusion dance teams.\",\n",
        "    \"The Alexander Hamilton Society (AHS) is a non-partisan organization focused on foreign policy and national security international relations.\",\n",
        "    \"The American Medical College of Pharmacy (AMCP) provides opportunities to learn about managed care pharmacy, improving patient outcomes through clinical and business knowledge.\",\n",
        "    \"Acacia is a social fraternity dedicated to human service. We are dedicated to bettering the community we are a part of and sharing a brotherhood we will remember for the rest of our lives. We are a fraternity that is focused on the strength of brotherhood. By selecting key members of the Madison community, we build a brotherhood dedicated to human service for both the community and ourselves. These members are selected through the IFC-regulated RUSH process in which members are first bid followed by a pledge process. We are a non-hazing fraternity built on the idea that disrespect to any possible future member or person is strictly against our goals and morals. All leaders of the Acacia Fraternity are elected by the active members and must be students of the University of Wisconsin-Madison.  \",\n",
        "\"The Health Entreprenuers and Leaders is a prehealth student organization established at the University of Wisconsin-Madison in 2020. As prehealth students, we identified the gaps and disparities in our community and the medical field. HEAL is our legacy to become the change that goes beyond addressing the issue but pushes forward to act upon them at the core of the issues. We understand Health care policy and insurance are crucial factors that comes to healthcare affordability and accessibility, which HEAL has a focus to address. Beyond this, the cornerstone of HEAL is to address problems in healthcare at all levels, including but not limited to the federal, state, hospital administration, healthcare providers/professionals, patients, etc. HEAL is structured to be a center for all pre-health students to attain resources and mentorship to grow and develop in their path to pursuing and entering the health field. HEAL understands the benefits and advocates for the diversity of people, backgrounds, and minds to improve the future of medicine.\"\n",
        "]\n",
        "club_titles = [\"Aa Dekhen Zara\", \"The Alexander Hamilton Society\", \"The American Medical College of Pharmacy\", \"Acacia\", \"The Health Entreprenuers and Leaders\"]\n",
        "event_descriptions = [\"event1\", \"event2\", \"event3\",\"event4\",\"event5\"]\n",
        "print(listOfMatchingClubs(event_descriptions, club_titles,club_descriptions,False,True,False,True,True,\"I love dancing, especially Bollywood-style dance.\",\"I want a club that can help me pursue a career in international relations.\"))"
      ],
      "metadata": {
        "colab": {
          "base_uri": "https://localhost:8080/"
        },
        "id": "q1AiWSZNCbEU",
        "outputId": "39774b2e-1bfa-428e-edd0-098793fd2a67"
      },
      "execution_count": 61,
      "outputs": [
        {
          "output_type": "stream",
          "name": "stdout",
          "text": [
            "10\n",
            "10\n",
            "10\n",
            "10\n",
            "10\n",
            "{'community_service': 0.10400845855474472, 'teamwork': 0.10795339196920395, 'eagerness_to_learn': 0.11105271428823471, 'leadership': 0.11280133575201035, 'critical_thinking': 0.11412223428487778}\n",
            "{'eagerness_to_learn': 0.05439390987157822, 'leadership': 0.07518069446086884, 'teamwork': 0.09696871042251587, 'critical_thinking': 0.10065927356481552, 'community_service': 0.1673998236656189}\n",
            "{'leadership': 0.027347946539521217, 'eagerness_to_learn': 0.04596151039004326, 'community_service': 0.05191246420145035, 'teamwork': 0.06298767030239105, 'critical_thinking': 0.06982514262199402}\n",
            "{'eagerness_to_learn': 0.10840778052806854, 'critical_thinking': 0.11968077719211578, 'leadership': 0.1474871188402176, 'teamwork': 0.17062781751155853, 'community_service': 0.2042498141527176}\n",
            "{'eagerness_to_learn': 0.11082278192043304, 'teamwork': 0.11181306838989258, 'critical_thinking': 0.12578324973583221, 'leadership': 0.13555608689785004, 'community_service': 0.21739566326141357}\n",
            "{'Aa Dekhen Zara': 'event1', 'The Alexander Hamilton Society': 'event2', 'Acacia': 'event4'}\n"
          ]
        }
      ]
    }
  ]
}