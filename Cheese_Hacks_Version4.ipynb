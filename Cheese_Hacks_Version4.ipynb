{
  "nbformat": 4,
  "nbformat_minor": 0,
  "metadata": {
    "colab": {
      "provenance": []
    },
    "kernelspec": {
      "name": "python3",
      "display_name": "Python 3"
    },
    "language_info": {
      "name": "python"
    }
  },
  "cells": [
    {
      "cell_type": "code",
      "source": [
        "from sentence_transformers import SentenceTransformer, util\n",
        "\n",
        "# Load a pre-trained model\n"
      ],
      "metadata": {
        "colab": {
          "base_uri": "https://localhost:8080/"
        },
        "id": "qrx460TplM10",
        "outputId": "8bb15e52-5413-4f90-bb00-f849068f2f42"
      },
      "execution_count": 2,
      "outputs": [
        {
          "output_type": "stream",
          "name": "stderr",
          "text": [
            "/usr/local/lib/python3.10/dist-packages/sentence_transformers/cross_encoder/CrossEncoder.py:13: TqdmExperimentalWarning: Using `tqdm.autonotebook.tqdm` in notebook mode. Use `tqdm.tqdm` instead to force console mode (e.g. in jupyter console)\n",
            "  from tqdm.autonotebook import tqdm, trange\n"
          ]
        }
      ]
    },
    {
      "cell_type": "code",
      "source": [
        "import nltk\n",
        "from nltk.corpus import stopwords\n",
        "from nltk.tokenize import word_tokenize\n",
        "\n",
        "# Download the stopwords list (only once)\n",
        "nltk.download('stopwords')\n",
        "nltk.download('punkt')\n",
        "nltk.download('punkt_tab')\n",
        "\n"
      ],
      "metadata": {
        "colab": {
          "base_uri": "https://localhost:8080/"
        },
        "id": "lZYKYfNoCUCu",
        "outputId": "8987c9cf-7b6f-443b-b60e-5ebf1f0ab7a8"
      },
      "execution_count": 3,
      "outputs": [
        {
          "output_type": "stream",
          "name": "stderr",
          "text": [
            "[nltk_data] Downloading package stopwords to /root/nltk_data...\n",
            "[nltk_data]   Unzipping corpora/stopwords.zip.\n",
            "[nltk_data] Downloading package punkt to /root/nltk_data...\n",
            "[nltk_data]   Unzipping tokenizers/punkt.zip.\n",
            "[nltk_data] Downloading package punkt_tab to /root/nltk_data...\n",
            "[nltk_data]   Unzipping tokenizers/punkt_tab.zip.\n"
          ]
        },
        {
          "output_type": "execute_result",
          "data": {
            "text/plain": [
              "True"
            ]
          },
          "metadata": {},
          "execution_count": 3
        }
      ]
    },
    {
      "cell_type": "markdown",
      "source": [
        "##Non-Open ended question"
      ],
      "metadata": {
        "id": "fK4D7O7tdOi5"
      }
    },
    {
      "cell_type": "code",
      "source": [
        "from sklearn.feature_extraction.text import TfidfVectorizer\n",
        "from sentence_transformers import SentenceTransformer, util\n",
        "\n",
        "\n",
        "# Define keywords or attribute phrases\n",
        "\n",
        "# Example description\n",
        "\n",
        "\n",
        "\n",
        "# Load a pre-trained sentence transformer model\n",
        "\n",
        "# Function to score a description\n",
        "def club_score(description, attributes):\n",
        "    model = SentenceTransformer('all-MiniLM-L6-v2')\n",
        "    scores = {}\n",
        "    desc_embedding = model.encode(description, convert_to_tensor=True)\n",
        "\n",
        "    for attr, phrases in attributes.items():\n",
        "        attr_embeddings = model.encode(phrases, convert_to_tensor=True)\n",
        "        similarity = util.cos_sim(desc_embedding, attr_embeddings)\n",
        "        scores[attr] = similarity.mean().item()  # Average similarity score\n",
        "\n",
        "    return scores\n",
        "\n",
        "\n",
        "\n",
        "# Assess the description\n",
        "def match_clubs(club_descriptions,user_attributes):\n",
        "  matching_clubs = {}\n",
        "  filtered_matching_clubs = {}\n",
        "  attributes = { #WARNING: Words are subjected to change\n",
        "    \"teamwork\": [\"joint work\",\"networking\", \"collaboration\", \"cooperative\", \"partnership\", \"coordinate\",\"support\", \"collective effort\",\"mutual\", \"team effort\"], # \"cooperation\", \"team\", \"collaboration\", \"group work\", \"mutual support\", \"collective effort\", \"synergy\", \"shared responsibility\", \"coordination\", \"joint effort\", \"supportive environment\", \"team spirit\", \"interdependence\", \"togetherness\", \"cooperation across teams\", \"team-based\", \"group dynamics\"\n",
        "    \"community_service\": [\"awareness\",\"community\", \"volunteer\", \"outreach\", \"giving back\", \"charity\",\"society\",\"non-profit\",\"social impact\",\"public benefit\"], # \"charity\", \"social impact\", \"community engagement\",\"helping others\", \"civic responsibility\", \"social responsibility\", \"philanthropy\", \"mission trips\", \"voluntary service\", \"empowerment\", \"public service\", \"nonprofit work\", \"community involvement\", \"advocacy\"\n",
        "    \"leadership\": [\"inspire\", \"initiative\", \"motivated\", \"achieving\",\"leader\", \"responsible\",\"excel\", \"succeed\", \"evolve\",\"future\",], # \"leadership\", \"leader\", \"inspire\", \"mentor\", \"guide\", \"decision-making\", \"visionary\",\"responsibility\", \"motivator\", \"manager\", \"influence\", \"coach\", \"authority\", \"empower\", \"director\", \"organizer\", \"strategic thinking\", \"leadership development\", \"leading by example\"\n",
        "    \"eagerness_to_learn\": [\"interest\",\"passion\",\"curious\",\"challenge\", \"learn\", \"grow\", \"knowledge\",\"explore\",\"develop\", \"innovation\"], #\"learning\", \"curiosity\", \"knowledge-seeking\", \"growth mindset\", \"self-improvement\", \"development\", \"education\", \"exploration\", \"adaptability\", \"open-mindedness\", \"lifelong learning\", \"innovation\",\"self-driven\", \"intellectual curiosity\", \"new experiences\", \"skill-building\", \"challenging oneself\",\"personal growth\", \"exploration of new ideas\", \"knowledge expansion\"\n",
        "    \"critical_thinking\": [\"analysis\", \"problem-solving\", \"decision-making\", \"evaluate\", \"strategy\", \"analytical\",\"critical thinking\",\"reasoning\",\"logic\",\"insight\"] # \"problem-solving\", \"analysis\", \"critical thinking\", \"reasoning\", \"evaluation\", \"decision-making\", \"strategy\",\"logic\", \"objectivity\", \"judgment\", \"reflection\", \"inquiry\", \"debate\", \"data analysis\", \"questioning assumptions\",\"cognitive skills\", \"thoughtful consideration\", \"synthesis\", \"problem resolution\", \"insight\"\n",
        "}\n",
        "\n",
        "  for i in range(len(club_descriptions)):\n",
        "    categories = [\"teamwork\", \"community_service\", \"leadership\", \"eagerness_to_learn\", \"critical_thinking\"]\n",
        "    scores = dict(sorted(club_score(club_descriptions[i], attributes).items(), key=lambda item: item[1],reverse = True))\n",
        "    for attr in range(len(user_attributes)):\n",
        "      if (user_attributes[attr]) and scores[categories[attr]] > 0.1:\n",
        "        matching_clubs[i] = scores[categories[attr]]\n",
        "\n",
        "  if len(matching_clubs) <= 4:\n",
        "    for j in matching_clubs:\n",
        "      if len(filtered_matching_clubs) == 1:\n",
        "        break\n",
        "      if matching_clubs[j] > 0.1:\n",
        "        filtered_matching_clubs[j] = matching_clubs[j]\n",
        "  elif len(matching_clubs) <= 8:\n",
        "    for j in matching_clubs:\n",
        "      if len(filtered_matching_clubs) == 3:\n",
        "        break\n",
        "      if matching_clubs[j] > 0.12:\n",
        "        filtered_matching_clubs[j] = matching_clubs[j]\n",
        "  elif len(matching_clubs) > 8:\n",
        "    for j in matching_clubs:\n",
        "      if len(filtered_matching_clubs) == 5:\n",
        "        break\n",
        "      if matching_clubs[j] > 0.15:\n",
        "        filtered_matching_clubs[j] = matching_clubs[j]\n",
        "\n",
        "  sorted_dict = dict(sorted(filtered_matching_clubs.items(), key=lambda item: item[1], reverse = True))\n",
        "  return list(sorted_dict.keys())\n",
        "\n"
      ],
      "metadata": {
        "id": "FozopC1w49ON"
      },
      "execution_count": 45,
      "outputs": []
    },
    {
      "cell_type": "markdown",
      "source": [
        "##Open_Ended Question"
      ],
      "metadata": {
        "id": "DPrG-t3id3RO"
      }
    },
    {
      "cell_type": "code",
      "source": [
        "import re\n",
        "import numpy as np\n",
        "\n",
        "\n",
        "\n",
        "#filtering sentence to make similarity scores more relevent\n",
        "def filter_sentence(sentence):\n",
        "\n",
        "  # Step 1: Tokenize the sentence into words\n",
        "  words = word_tokenize(sentence)\n",
        "\n",
        "  # Step 2: Get the list of stopwords in English\n",
        "  stop_words = set(stopwords.words('english'))\n",
        "\n",
        "  # Step 3: Remove stopwords from the sentence\n",
        "  filtered_words = [word for word in words if word.lower() not in stop_words]\n",
        "\n",
        "  # Step 4: Reconstruct the sentence without stopwords\n",
        "  filtered_sentence = ' '.join(filtered_words)\n",
        "\n",
        "  # Output the result\n",
        "  return filtered_sentence\n",
        "\n",
        "#finding relevent clubs\n",
        "#TODO: Might need to split a group of sentences into individual sentences and check mean of similarity score for each sentence\n",
        "def interest_similarity(club_descriptions, user_input):\n",
        "  model = SentenceTransformer('all-MiniLM-L6-v2')\n",
        "  unfiltered_clubs = {}\n",
        "  filtered_clubs = {}\n",
        "  for i in range(len(club_descriptions)):\n",
        "    mean = []\n",
        "    sentences = re.split(r'[.!?]', club_descriptions[i])\n",
        "    sentences = [s.strip() for s in sentences if s.strip()]\n",
        "    for a in range(len(sentences)):\n",
        "      sentences[a] = filter_sentence(sentences[a])\n",
        "\n",
        "      user_embedding = model.encode(user_input, convert_to_tensor=True)\n",
        "      club_embedding = model.encode(sentences[a], convert_to_tensor=True)\n",
        "      cosine_similarity = util.cos_sim(user_embedding, club_embedding)\n",
        "      mean.append(cosine_similarity)\n",
        "    unfiltered_clubs[i] = np.mean(np.array(mean))\n",
        "\n",
        "  if len(unfiltered_clubs) <= 4:\n",
        "    for j in unfiltered_clubs:\n",
        "      if len(filtered_clubs) == 2:\n",
        "        break\n",
        "      if unfiltered_clubs[j] > 0.12:\n",
        "        filtered_clubs[j] = unfiltered_clubs[j]\n",
        "  elif len(unfiltered_clubs) <= 8:\n",
        "    for j in unfiltered_clubs:\n",
        "      if len(filtered_clubs) == 3:\n",
        "        break\n",
        "      if unfiltered_clubs[j] > 0.15:\n",
        "        filtered_clubs[j] = unfiltered_clubs[j]\n",
        "  elif len(unfiltered_clubs) > 8:\n",
        "    for j in unfiltered_clubs:\n",
        "      if len(filtered_clubs) == 5:\n",
        "        break\n",
        "      if unfiltered_clubs[j] > 0.2:\n",
        "        filtered_clubs[j] = unfiltered_clubs[j]\n",
        "\n",
        "  sorted_dict = dict(sorted(filtered_clubs.items(), key=lambda item: item[1],reverse = True))\n",
        "  return list(sorted_dict.keys())\n",
        "\n",
        "\n",
        "\n",
        "\n",
        "\n"
      ],
      "metadata": {
        "id": "_NdM7WHlA-TN"
      },
      "execution_count": 26,
      "outputs": []
    },
    {
      "cell_type": "markdown",
      "source": [
        "#Final Implementation"
      ],
      "metadata": {
        "id": "VUUDqM6K85Sh"
      }
    },
    {
      "cell_type": "code",
      "source": [
        "\n",
        "def indicesOfMatchingClubs(club_descriptions, teamwork,community_service,leadership,learning,critical_thinking,hobbies,club_wants):\n",
        "  questions = {\"teamwork\": teamwork,\n",
        "          \"community_service\": community_service,\n",
        "          \"leadership\": leadership,\n",
        "          \"learning\": learning,\n",
        "          \"critical_thinking\": critical_thinking,\n",
        "          \"hobbies\": hobbies,\n",
        "          \"club_wants\": club_wants\n",
        "          }\n",
        "  user_input = [questions[\"hobbies\"] + \". \" + questions[\"club_wants\"]]\n",
        "  user_attributes = [questions[\"teamwork\"],questions[\"community_service\"],questions[\"leadership\"],questions[\"learning\"],questions[\"critical_thinking\"]]\n",
        "  return list(np.unique(np.array((interest_similarity(club_descriptions, user_input) + match_clubs(club_descriptions, user_attributes)))))\n",
        "\n",
        "def listOfMatchingClubs(event_descriptions,club_titles,club_descriptions, teamwork,community_service,leadership,learning,critical_thinking,hobbies,club_wants):\n",
        "  finalClubs = {}\n",
        "  for i in indicesOfMatchingClubs(club_descriptions, teamwork,community_service,leadership,learning,critical_thinking,hobbies,club_wants):\n",
        "    finalClubs[club_titles[i]] = event_descriptions[i]\n",
        "  if finalClubs == {}:\n",
        "    finalClubs = {\"No matching clubs found\":\"\"}\n",
        "  return finalClubs\n"
      ],
      "metadata": {
        "id": "Uqgjz8OB8tEw"
      },
      "execution_count": 43,
      "outputs": []
    },
    {
      "cell_type": "markdown",
      "source": [
        "#Testing the model"
      ],
      "metadata": {
        "id": "HQOw_bMbCaoa"
      }
    },
    {
      "cell_type": "code",
      "source": [
        "#for reference purposes only\n",
        "questions = {\"teamwork\": False,\n",
        "            \"community_service\": False,\n",
        "            \"leadership\": False,\n",
        "            \"learning\": False,\n",
        "            \"critical_thinking\": False,\n",
        "            \"hobbies\": \"I am into movies\",\n",
        "            \"club_wants\": \"\"\n",
        "            }\n",
        "\n",
        "#actual input that varies the output\n",
        "club_descriptions = [\n",
        "    \"Aa Dekhen Zara (ADZ) is an annual South Asian Dance competition hosted by the students of the University of Wisconsin-Madison. We host talented Bollywood-Fusion dance teams.\",\n",
        "    \"The Alexander Hamilton Society (AHS) is a non-partisan organization focused on foreign policy and national security international relations.\",\n",
        "    \"The American Medical College of Pharmacy (AMCP) provides opportunities to learn about managed care pharmacy, improving patient outcomes through clinical and business knowledge.\",\n",
        "    \"Acacia is a social fraternity dedicated to human service. We are dedicated to bettering the community we are a part of and sharing a brotherhood we will remember for the rest of our lives. We are a fraternity that is focused on the strength of brotherhood. By selecting key members of the Madison community, we build a brotherhood dedicated to human service for both the community and ourselves. These members are selected through the IFC-regulated RUSH process in which members are first bid followed by a pledge process. We are a non-hazing fraternity built on the idea that disrespect to any possible future member or person is strictly against our goals and morals. All leaders of the Acacia Fraternity are elected by the active members and must be students of the University of Wisconsin-Madison.  \",\n",
        "\"The Health Entreprenuers and Leaders is a prehealth student organization established at the University of Wisconsin-Madison in 2020. As prehealth students, we identified the gaps and disparities in our community and the medical field. HEAL is our legacy to become the change that goes beyond addressing the issue but pushes forward to act upon them at the core of the issues. We understand Health care policy and insurance are crucial factors that comes to healthcare affordability and accessibility, which HEAL has a focus to address. Beyond this, the cornerstone of HEAL is to address problems in healthcare at all levels, including but not limited to the federal, state, hospital administration, healthcare providers/professionals, patients, etc. HEAL is structured to be a center for all pre-health students to attain resources and mentorship to grow and develop in their path to pursuing and entering the health field. HEAL understands the benefits and advocates for the diversity of people, backgrounds, and minds to improve the future of medicine.\"\n",
        "]\n",
        "club_titles = [\"Aa Dekhen Zara\", \"The Alexander Hamilton Society\", \"The American Medical College of Pharmacy\", \"Acacia\", \"The Health Entreprenuers and Leaders\"]\n",
        "event_descriptions = [\"event1\", \"event2\", \"event3\",\"event4\",\"event5\"]\n",
        "print(listOfMatchingClubs(event_descriptions, club_titles,club_descriptions,False,False,False,False,False,\"i am into movies\",\"\"))"
      ],
      "metadata": {
        "colab": {
          "base_uri": "https://localhost:8080/"
        },
        "id": "q1AiWSZNCbEU",
        "outputId": "f5c670cc-5979-4814-dda5-0843157fab47"
      },
      "execution_count": 48,
      "outputs": [
        {
          "output_type": "stream",
          "name": "stdout",
          "text": [
            "{'No matching clubs found': ''}\n"
          ]
        }
      ]
    }
  ]
}